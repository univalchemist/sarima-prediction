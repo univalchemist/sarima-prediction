{
 "cells": [
  {
   "cell_type": "code",
   "execution_count": null,
   "metadata": {},
   "outputs": [],
   "source": [
    "import numpy as np\n",
    "from cuml.tsa.arima import ARIMA\n",
    "\n",
    "# Create seasonal data with a trend, a seasonal pattern and noise\n",
    "n_obs = 100\n",
    "np.random.seed(12)\n",
    "x = np.linspace(0, 1, n_obs)\n",
    "pattern = np.array([[0.05], [0.07],\n",
    "                    [-0.03], [0.02]])\n",
    "noise = np.random.normal(scale=0.01, size=(n_obs, 2))\n",
    "y = (np.column_stack((0.5*x, -0.25*x)) + noise\n",
    "    + np.tile(pattern, (25, 1)))\n",
    "\n",
    "# Fit a seasonal ARIMA model\n",
    "model = ARIMA(y,\n",
    "              order=(0,1,1),\n",
    "              seasonal_order=(0,1,1,4),\n",
    "              fit_intercept=False)\n",
    "model.fit()\n",
    "\n",
    "# Forecast\n",
    "fc = model.forecast(10)\n",
    "print(fc)"
   ]
  }
 ],
 "metadata": {
  "language_info": {
   "name": "python"
  },
  "orig_nbformat": 4
 },
 "nbformat": 4,
 "nbformat_minor": 2
}
